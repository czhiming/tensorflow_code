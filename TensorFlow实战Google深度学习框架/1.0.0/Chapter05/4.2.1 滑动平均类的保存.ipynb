{
 "cells": [
  {
   "cell_type": "code",
   "execution_count": 8,
   "metadata": {
    "collapsed": true
   },
   "outputs": [],
   "source": [
    "import tensorflow as tf"
   ]
  },
  {
   "cell_type": "markdown",
   "metadata": {},
   "source": [
    "#### 1. 使用滑动平均。"
   ]
  },
  {
   "cell_type": "code",
   "execution_count": 9,
   "metadata": {
    "collapsed": false
   },
   "outputs": [
    {
     "name": "stdout",
     "output_type": "stream",
     "text": [
      "v:0\n",
      "v/ExponentialMovingAverage:0\n",
      "v_1:0\n",
      "v/ExponentialMovingAverage_1:0\n",
      "v/ExponentialMovingAverage/ExponentialMovingAverage:0\n",
      "v_1/ExponentialMovingAverage:0\n",
      "v_2:0\n",
      "v/ExponentialMovingAverage_2:0\n",
      "v/ExponentialMovingAverage/ExponentialMovingAverage_1:0\n",
      "v_1/ExponentialMovingAverage_1:0\n",
      "v/ExponentialMovingAverage_1/ExponentialMovingAverage:0\n",
      "v/ExponentialMovingAverage/ExponentialMovingAverage/ExponentialMovingAverage:0\n",
      "v_1/ExponentialMovingAverage/ExponentialMovingAverage:0\n",
      "v_2/ExponentialMovingAverage:0\n",
      "v_3:0\n",
      "v:0\n",
      "v/ExponentialMovingAverage:0\n",
      "v_1:0\n",
      "v/ExponentialMovingAverage_1:0\n",
      "v/ExponentialMovingAverage/ExponentialMovingAverage:0\n",
      "v_1/ExponentialMovingAverage:0\n",
      "v_2:0\n",
      "v/ExponentialMovingAverage_2:0\n",
      "v/ExponentialMovingAverage/ExponentialMovingAverage_1:0\n",
      "v_1/ExponentialMovingAverage_1:0\n",
      "v/ExponentialMovingAverage_1/ExponentialMovingAverage:0\n",
      "v/ExponentialMovingAverage/ExponentialMovingAverage/ExponentialMovingAverage:0\n",
      "v_1/ExponentialMovingAverage/ExponentialMovingAverage:0\n",
      "v_2/ExponentialMovingAverage:0\n",
      "v_3:0\n",
      "v/ExponentialMovingAverage_3:0\n",
      "v/ExponentialMovingAverage/ExponentialMovingAverage_2:0\n",
      "v_1/ExponentialMovingAverage_2:0\n",
      "v/ExponentialMovingAverage_1/ExponentialMovingAverage_1:0\n",
      "v/ExponentialMovingAverage/ExponentialMovingAverage/ExponentialMovingAverage_1:0\n",
      "v_1/ExponentialMovingAverage/ExponentialMovingAverage_1:0\n",
      "v_2/ExponentialMovingAverage_1:0\n",
      "v/ExponentialMovingAverage_2/ExponentialMovingAverage:0\n",
      "v/ExponentialMovingAverage/ExponentialMovingAverage_1/ExponentialMovingAverage:0\n",
      "v_1/ExponentialMovingAverage_1/ExponentialMovingAverage:0\n",
      "v/ExponentialMovingAverage_1/ExponentialMovingAverage/ExponentialMovingAverage:0\n",
      "v/ExponentialMovingAverage/ExponentialMovingAverage/ExponentialMovingAverage/ExponentialMovingAverage:0\n",
      "v_1/ExponentialMovingAverage/ExponentialMovingAverage/ExponentialMovingAverage:0\n",
      "v_2/ExponentialMovingAverage/ExponentialMovingAverage:0\n",
      "v_3/ExponentialMovingAverage:0\n"
     ]
    }
   ],
   "source": [
    "v = tf.Variable(0, dtype=tf.float32, name=\"v\")\n",
    "for variables in tf.global_variables(): print variables.name\n",
    "# 在申明滑动平均模型之后，tensorflow会自动生成一个影子变量\n",
    "ema = tf.train.ExponentialMovingAverage(0.99)\n",
    "maintain_averages_op = ema.apply(tf.global_variables())\n",
    "for variables in tf.global_variables(): print variables.name"
   ]
  },
  {
   "cell_type": "markdown",
   "metadata": {},
   "source": [
    "#### 2. 保存滑动平均模型。"
   ]
  },
  {
   "cell_type": "code",
   "execution_count": 10,
   "metadata": {
    "collapsed": false
   },
   "outputs": [
    {
     "name": "stdout",
     "output_type": "stream",
     "text": [
      "[nan, nan]\n"
     ]
    }
   ],
   "source": [
    "saver = tf.train.Saver()\n",
    "with tf.Session() as sess:\n",
    "    init_op = tf.global_variables_initializer()\n",
    "    sess.run(init_op)\n",
    "    \n",
    "    sess.run(tf.assign(v, 10))\n",
    "    sess.run(maintain_averages_op)\n",
    "    # 保存的时候会将v:0  v/ExponentialMovingAverage:0这两个变量都存下来。\n",
    "    saver.save(sess, \"Saved_model/model2.ckpt\")\n",
    "    print sess.run([v, ema.average(v)])"
   ]
  },
  {
   "cell_type": "markdown",
   "metadata": {},
   "source": [
    "#### 3. 加载滑动平均模型。"
   ]
  },
  {
   "cell_type": "code",
   "execution_count": 4,
   "metadata": {
    "collapsed": false
   },
   "outputs": [
    {
     "name": "stdout",
     "output_type": "stream",
     "text": [
      "0.0999999\n"
     ]
    }
   ],
   "source": [
    "v = tf.Variable(0, dtype=tf.float32, name=\"v\")\n",
    "\n",
    "# 通过变量重命名将原来变量v的滑动平均值直接赋值给v。\n",
    "saver = tf.train.Saver({\"v/ExponentialMovingAverage\": v})\n",
    "with tf.Session() as sess:\n",
    "    saver.restore(sess, \"Saved_model/model2.ckpt\")\n",
    "    print sess.run(v)"
   ]
  }
 ],
 "metadata": {
  "kernelspec": {
   "display_name": "Python [Root]",
   "language": "python",
   "name": "Python [Root]"
  },
  "language_info": {
   "codemirror_mode": {
    "name": "ipython",
    "version": 2
   },
   "file_extension": ".py",
   "mimetype": "text/x-python",
   "name": "python",
   "nbconvert_exporter": "python",
   "pygments_lexer": "ipython2",
   "version": "2.7.12"
  }
 },
 "nbformat": 4,
 "nbformat_minor": 1
}
