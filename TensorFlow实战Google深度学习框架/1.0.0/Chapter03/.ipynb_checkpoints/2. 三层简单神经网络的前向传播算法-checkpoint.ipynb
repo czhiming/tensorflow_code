{
 "cells": [
  {
   "cell_type": "markdown",
   "metadata": {},
   "source": [
    "####  1. 三层简单神经网络"
   ]
  },
  {
   "cell_type": "code",
   "execution_count": 1,
   "metadata": {
    "collapsed": true
   },
   "outputs": [],
   "source": [
    "import tensorflow as tf"
   ]
  },
  {
   "cell_type": "markdown",
   "metadata": {},
   "source": [
    "1.1 定义变量"
   ]
  },
  {
   "cell_type": "code",
   "execution_count": 2,
   "metadata": {
    "collapsed": true
   },
   "outputs": [],
   "source": [
    "w1= tf.Variable(tf.random_normal([2, 3], stddev=1, seed=1))\n",
    "w2= tf.Variable(tf.random_normal([3, 1], stddev=1, seed=1))\n",
    "x = tf.constant([[0.7, 0.9]])  \n",
    "#Tensorflow 随机数生成函数\n",
    "# tf.random_normal 正太分布\n",
    "# tf.truncated_normal 正态分布，但如果随机出来的值偏离平均值超过2个标准差，那么这个数会被重新随机\n",
    "# tf.random_uniform 均匀分布\n",
    "\n",
    "#TensorFlow 常数生成函数\n",
    "# tf.zeros 产生全零数组\n",
    "# tf.ones 产生全1数组\n",
    "# tf.fill 产生一个全部为给定数字的数组\n",
    "# tf.constant 产生一个给定值的常量\n"
   ]
  },
  {
   "cell_type": "markdown",
   "metadata": {},
   "source": [
    "1.2 定义前向传播的神经网络"
   ]
  },
  {
   "cell_type": "code",
   "execution_count": 6,
   "metadata": {
    "collapsed": false
   },
   "outputs": [
    {
     "name": "stdout",
     "output_type": "stream",
     "text": [
      "[<tf.Variable 'Variable:0' shape=(2, 3) dtype=float32_ref>, <tf.Variable 'Variable_1:0' shape=(3, 1) dtype=float32_ref>]\n",
      "[<tf.Variable 'Variable:0' shape=(2, 3) dtype=float32_ref>, <tf.Variable 'Variable_1:0' shape=(3, 1) dtype=float32_ref>]\n"
     ]
    }
   ],
   "source": [
    "print(tf.global_variables()) # 获取所有变量\n",
    "print(tf.trainable_variables()) # 获取所有需要优化的变量\n",
    "\n",
    "a = tf.matmul(x, w1)\n",
    "y = tf.matmul(a, w2)"
   ]
  },
  {
   "cell_type": "markdown",
   "metadata": {},
   "source": [
    "1.3 调用会话输出结果"
   ]
  },
  {
   "cell_type": "code",
   "execution_count": 7,
   "metadata": {
    "collapsed": false
   },
   "outputs": [
    {
     "name": "stdout",
     "output_type": "stream",
     "text": [
      "[[ 3.95757794]]\n"
     ]
    }
   ],
   "source": [
    "sess = tf.Session()\n",
    "sess.run(w1.initializer) #虽然在变量定义时给出了变量初始化的方法，但这个方法并没有被真正的运行\n",
    "sess.run(w2.initializer)\n",
    "print(sess.run(y))  \n",
    "sess.close()"
   ]
  },
  {
   "cell_type": "markdown",
   "metadata": {
    "collapsed": true
   },
   "source": [
    "#### 2. 使用placeholder"
   ]
  },
  {
   "cell_type": "code",
   "execution_count": 8,
   "metadata": {
    "collapsed": false
   },
   "outputs": [
    {
     "name": "stdout",
     "output_type": "stream",
     "text": [
      "[[ 3.95757794]]\n"
     ]
    }
   ],
   "source": [
    "# tensorflow提供了placeholder机制用于提供输入数据\n",
    "x = tf.placeholder(tf.float32, shape=(1, 2), name=\"input\")\n",
    "a = tf.matmul(x, w1)\n",
    "y = tf.matmul(a, w2)\n",
    "\n",
    "sess = tf.Session()\n",
    "\n",
    "init_op = tf.global_variables_initializer()  \n",
    "sess.run(init_op)\n",
    "\n",
    "print(sess.run(y, feed_dict={x: [[0.7,0.9]]})) #feed_dict喂入数据"
   ]
  },
  {
   "cell_type": "markdown",
   "metadata": {},
   "source": [
    "#### 3. 增加多个输入"
   ]
  },
  {
   "cell_type": "code",
   "execution_count": 6,
   "metadata": {
    "collapsed": false
   },
   "outputs": [
    {
     "name": "stdout",
     "output_type": "stream",
     "text": [
      "[[ 3.95757794]\n",
      " [ 1.15376544]\n",
      " [ 3.16749191]]\n"
     ]
    }
   ],
   "source": [
    "x = tf.placeholder(tf.float32, shape=(3, 2), name=\"input\")\n",
    "a = tf.matmul(x, w1)\n",
    "y = tf.matmul(a, w2)\n",
    "\n",
    "sess = tf.Session()\n",
    "#使用tf.global_variables_initializer()来初始化所有的变量\n",
    "init_op = tf.global_variables_initializer()  \n",
    "sess.run(init_op)\n",
    "\n",
    "print(sess.run(y, feed_dict={x: [[0.7,0.9],[0.1,0.4],[0.5,0.8]]})) "
   ]
  }
 ],
 "metadata": {
  "kernelspec": {
   "display_name": "Python [Root]",
   "language": "python",
   "name": "Python [Root]"
  },
  "language_info": {
   "codemirror_mode": {
    "name": "ipython",
    "version": 2
   },
   "file_extension": ".py",
   "mimetype": "text/x-python",
   "name": "python",
   "nbconvert_exporter": "python",
   "pygments_lexer": "ipython2",
   "version": "2.7.12"
  }
 },
 "nbformat": 4,
 "nbformat_minor": 1
}
