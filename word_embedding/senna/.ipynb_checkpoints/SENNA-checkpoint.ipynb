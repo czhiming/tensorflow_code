{
 "cells": [
  {
   "cell_type": "code",
   "execution_count": 1,
   "metadata": {
    "collapsed": true
   },
   "outputs": [],
   "source": [
    "#encoding:utf-8\n",
    "\n",
    "from input_data import *\n",
    "\n",
    "import numpy as np\n",
    "import tensorflow as tf\n",
    "import time\n",
    "import math"
   ]
  },
  {
   "cell_type": "code",
   "execution_count": 2,
   "metadata": {
    "collapsed": true
   },
   "outputs": [],
   "source": [
    "#参数集合\n",
    "data_dir = '../data/xinhua'\n",
    "batch_size = 120\n",
    "win_size = 3\n",
    "hidden_num = 256\n",
    "word_dim = 100\n",
    "neg_size = 10\n",
    "num_epochs = 50\n",
    "margin = 1.0\n",
    "alpha = 0.05\n",
    "grad_clip = 10.0"
   ]
  },
  {
   "cell_type": "code",
   "execution_count": 3,
   "metadata": {
    "collapsed": false
   },
   "outputs": [
    {
     "name": "stdout",
     "output_type": "stream",
     "text": [
      "word num:  15370\n"
     ]
    }
   ],
   "source": [
    "#准备训练数据\n",
    "data_loader = TextLoader(data_dir, batch_size, win_size, neg_size)\n",
    "vocab_size = data_loader.vocab_size"
   ]
  },
  {
   "cell_type": "code",
   "execution_count": 4,
   "metadata": {
    "collapsed": true
   },
   "outputs": [],
   "source": [
    "#准备测试例子\n",
    "test_words = [u'贵州', u'今天', u'中国', u'一']"
   ]
  },
  {
   "cell_type": "code",
   "execution_count": 5,
   "metadata": {
    "collapsed": true
   },
   "outputs": [],
   "source": [
    "#模型定义\n",
    "graph = tf.Graph()\n",
    "with graph.as_default():\n",
    "    #输入变量\n",
    "    input_data = tf.placeholder(tf.int32, [batch_size, win_size * 2])\n",
    "    targets_pos = tf.placeholder(tf.int64, [batch_size, 1])\n",
    "    targets_neg = tf.placeholder(tf.int64, [batch_size, neg_size])\n",
    "\n",
    "    #模型参数\n",
    "    with tf.variable_scope('senna' + 'embedding'):\n",
    "        embeddings = tf.Variable(tf.random_uniform([vocab_size, word_dim], -1.0, 1.0))\n",
    "        embeddings = tf.nn.l2_normalize(embeddings, 1)\n",
    "\n",
    "    with tf.variable_scope('senna' + 'weight'):\n",
    "        weight_h = tf.Variable(tf.truncated_normal([win_size * 2 * word_dim + 1, hidden_num],\n",
    "                        stddev=1.0 / math.sqrt(hidden_num)))\n",
    "        softmax_w = tf.Variable(tf.truncated_normal([win_size * 2 * word_dim, word_dim],\n",
    "                        stddev=1.0 / math.sqrt(word_dim)))\n",
    "        softmax_u = tf.Variable(tf.truncated_normal([hidden_num + 1, word_dim],\n",
    "                        stddev=1.0 / math.sqrt(hidden_num)))\n",
    "\n",
    "    #得到上下文的隐藏层表示\n",
    "    def infer_output(input_data):\n",
    "        inputs_emb = tf.nn.embedding_lookup(embeddings, input_data)\n",
    "        inputs_emb = tf.reshape(inputs_emb, [-1, win_size * 2 * word_dim])\n",
    "        inputs_emb_add = tf.concat(1, [inputs_emb, tf.ones(tf.pack([tf.shape(input_data)[0], 1]))])\n",
    "\n",
    "        inputs = tf.tanh(tf.matmul(inputs_emb_add, weight_h))\n",
    "        inputs_add = tf.concat(1, [inputs, tf.ones(tf.pack([tf.shape(input_data)[0], 1]))])\n",
    "        outputs = tf.matmul(inputs_add, softmax_u) + tf.matmul(inputs_emb, softmax_w)\n",
    "        outputs = tf.clip_by_value(outputs, -10.0, 10.0)\n",
    "        return outputs\n",
    "\n",
    "    outputs = infer_output(input_data)\n",
    "    pos_embs = tf.nn.embedding_lookup(embeddings, tf.squeeze(targets_pos))\n",
    "    pos_scores = tf.reduce_sum(outputs * pos_embs, 1) #一个batch的正例得分\n",
    "\n",
    "    loss, norm = 0.0, 0.0\n",
    "    norm += tf.reduce_sum(tf.reduce_sum(tf.square(pos_embs), 1))\n",
    "    for neg_targets in tf.split(1, neg_size, targets_neg):\n",
    "        neg_embs = tf.nn.embedding_lookup(embeddings, tf.squeeze(neg_targets))\n",
    "        neg_scores = tf.reduce_sum(outputs * neg_embs, 1) #一个batch的负例得分\n",
    "        loss += tf.reduce_sum(tf.nn.relu(neg_scores + margin - pos_scores))\n",
    "        norm += tf.reduce_sum(tf.reduce_sum(tf.square(neg_embs), 1))\n",
    "\n",
    "    loss = loss + alpha * norm\n",
    "    #self.optimizer = tf.train.AdagradOptimizer(0.1).minimize(loss)\n",
    "    optimizer = tf.train.GradientDescentOptimizer(0.001).minimize(loss)\n",
    "\n",
    "    #输出词向量\n",
    "    embeddings_norm = tf.sqrt(tf.reduce_sum(tf.square(embeddings), 1, keep_dims=True))\n",
    "    normalized_embeddings = embeddings / embeddings_norm"
   ]
  },
  {
   "cell_type": "code",
   "execution_count": 6,
   "metadata": {
    "collapsed": false
   },
   "outputs": [
    {
     "name": "stdout",
     "output_type": "stream",
     "text": [
      "0/9183 (epoch 0), train_loss = 1299.981, time/batch = 0.557\n",
      "1/9183 (epoch 0), train_loss = 1221.828, time/batch = 0.309\n",
      "2/9183 (epoch 0), train_loss = 1164.614, time/batch = 0.388\n",
      "3/9183 (epoch 0), train_loss = 1142.113, time/batch = 0.302\n",
      "4/9183 (epoch 0), train_loss = 1082.697, time/batch = 0.305\n",
      "5/9183 (epoch 0), train_loss = 952.366, time/batch = 0.314\n",
      "6/9183 (epoch 0), train_loss = 1119.561, time/batch = 0.281\n",
      "7/9183 (epoch 0), train_loss = 1063.560, time/batch = 0.278\n",
      "8/9183 (epoch 0), train_loss = 902.081, time/batch = 0.260\n",
      "9/9183 (epoch 0), train_loss = 1045.856, time/batch = 0.319\n",
      "10/9183 (epoch 0), train_loss = 921.426, time/batch = 0.460\n",
      "11/9183 (epoch 0), train_loss = 903.451, time/batch = 0.331\n",
      "12/9183 (epoch 0), train_loss = 882.479, time/batch = 0.292\n",
      "13/9183 (epoch 0), train_loss = 868.228, time/batch = 0.330\n",
      "14/9183 (epoch 0), train_loss = 903.795, time/batch = 0.319\n",
      "15/9183 (epoch 0), train_loss = 830.217, time/batch = 0.288\n",
      "16/9183 (epoch 0), train_loss = 948.749, time/batch = 0.270\n",
      "17/9183 (epoch 0), train_loss = 827.290, time/batch = 0.284\n",
      "18/9183 (epoch 0), train_loss = 1060.699, time/batch = 0.274\n",
      "19/9183 (epoch 0), train_loss = 941.964, time/batch = 0.265\n",
      "20/9183 (epoch 0), train_loss = 895.835, time/batch = 0.327\n",
      "21/9183 (epoch 0), train_loss = 1039.872, time/batch = 0.369\n",
      "22/9183 (epoch 0), train_loss = 985.404, time/batch = 0.530\n",
      "23/9183 (epoch 0), train_loss = 891.392, time/batch = 0.658\n",
      "24/9183 (epoch 0), train_loss = 748.372, time/batch = 0.611\n",
      "25/9183 (epoch 0), train_loss = 904.887, time/batch = 0.431\n",
      "26/9183 (epoch 0), train_loss = 845.866, time/batch = 0.415\n",
      "27/9183 (epoch 0), train_loss = 880.438, time/batch = 0.356\n",
      "28/9183 (epoch 0), train_loss = 825.141, time/batch = 0.363\n",
      "29/9183 (epoch 0), train_loss = 937.711, time/batch = 0.438\n",
      "30/9183 (epoch 0), train_loss = 906.669, time/batch = 0.383\n",
      "31/9183 (epoch 0), train_loss = 863.300, time/batch = 0.361\n",
      "32/9183 (epoch 0), train_loss = 974.004, time/batch = 0.467\n",
      "33/9183 (epoch 0), train_loss = 1014.247, time/batch = 0.435\n",
      "34/9183 (epoch 0), train_loss = 915.017, time/batch = 0.396\n",
      "35/9183 (epoch 0), train_loss = 977.451, time/batch = 0.436\n",
      "36/9183 (epoch 0), train_loss = 973.201, time/batch = 0.553\n",
      "37/9183 (epoch 0), train_loss = 787.596, time/batch = 0.426\n",
      "38/9183 (epoch 0), train_loss = 702.652, time/batch = 0.277\n",
      "39/9183 (epoch 0), train_loss = 914.870, time/batch = 0.274\n",
      "40/9183 (epoch 0), train_loss = 876.624, time/batch = 0.304\n"
     ]
    },
    {
     "ename": "KeyboardInterrupt",
     "evalue": "",
     "output_type": "error",
     "traceback": [
      "\u001b[1;31m---------------------------------------------------------------------------\u001b[0m",
      "\u001b[1;31mKeyboardInterrupt\u001b[0m                         Traceback (most recent call last)",
      "\u001b[1;32m<ipython-input-6-6dfd9a7f45a7>\u001b[0m in \u001b[0;36m<module>\u001b[1;34m()\u001b[0m\n\u001b[0;32m     10\u001b[0m                     \u001b[0mtargets_pos\u001b[0m\u001b[1;33m:\u001b[0m \u001b[0mpy\u001b[0m\u001b[1;33m,\u001b[0m\u001b[1;33m\u001b[0m\u001b[0m\n\u001b[0;32m     11\u001b[0m                     targets_neg: ny}\n\u001b[1;32m---> 12\u001b[1;33m             \u001b[0mtrain_loss\u001b[0m\u001b[1;33m,\u001b[0m  \u001b[0m_\u001b[0m \u001b[1;33m=\u001b[0m \u001b[0msess\u001b[0m\u001b[1;33m.\u001b[0m\u001b[0mrun\u001b[0m\u001b[1;33m(\u001b[0m\u001b[1;33m[\u001b[0m\u001b[0mloss\u001b[0m\u001b[1;33m,\u001b[0m \u001b[0moptimizer\u001b[0m\u001b[1;33m]\u001b[0m\u001b[1;33m,\u001b[0m \u001b[0mfeed\u001b[0m\u001b[1;33m)\u001b[0m\u001b[1;33m\u001b[0m\u001b[0m\n\u001b[0m\u001b[0;32m     13\u001b[0m             \u001b[0mend\u001b[0m \u001b[1;33m=\u001b[0m \u001b[0mtime\u001b[0m\u001b[1;33m.\u001b[0m\u001b[0mtime\u001b[0m\u001b[1;33m(\u001b[0m\u001b[1;33m)\u001b[0m\u001b[1;33m\u001b[0m\u001b[0m\n\u001b[0;32m     14\u001b[0m             print(\"{}/{} (epoch {}), train_loss = {:.3f}, time/batch = {:.3f}\" .format(\n",
      "\u001b[1;32m/usr/local/lib/python2.7/dist-packages/tensorflow/python/client/session.pyc\u001b[0m in \u001b[0;36mrun\u001b[1;34m(self, fetches, feed_dict, options, run_metadata)\u001b[0m\n\u001b[0;32m    338\u001b[0m     \u001b[1;32mtry\u001b[0m\u001b[1;33m:\u001b[0m\u001b[1;33m\u001b[0m\u001b[0m\n\u001b[0;32m    339\u001b[0m       result = self._run(None, fetches, feed_dict, options_ptr,\n\u001b[1;32m--> 340\u001b[1;33m                          run_metadata_ptr)\n\u001b[0m\u001b[0;32m    341\u001b[0m       \u001b[1;32mif\u001b[0m \u001b[0mrun_metadata\u001b[0m\u001b[1;33m:\u001b[0m\u001b[1;33m\u001b[0m\u001b[0m\n\u001b[0;32m    342\u001b[0m         \u001b[0mproto_data\u001b[0m \u001b[1;33m=\u001b[0m \u001b[0mtf_session\u001b[0m\u001b[1;33m.\u001b[0m\u001b[0mTF_GetBuffer\u001b[0m\u001b[1;33m(\u001b[0m\u001b[0mrun_metadata_ptr\u001b[0m\u001b[1;33m)\u001b[0m\u001b[1;33m\u001b[0m\u001b[0m\n",
      "\u001b[1;32m/usr/local/lib/python2.7/dist-packages/tensorflow/python/client/session.pyc\u001b[0m in \u001b[0;36m_run\u001b[1;34m(self, handle, fetches, feed_dict, options, run_metadata)\u001b[0m\n\u001b[0;32m    562\u001b[0m     \u001b[1;32mtry\u001b[0m\u001b[1;33m:\u001b[0m\u001b[1;33m\u001b[0m\u001b[0m\n\u001b[0;32m    563\u001b[0m       results = self._do_run(handle, target_list, unique_fetches,\n\u001b[1;32m--> 564\u001b[1;33m                              feed_dict_string, options, run_metadata)\n\u001b[0m\u001b[0;32m    565\u001b[0m     \u001b[1;32mfinally\u001b[0m\u001b[1;33m:\u001b[0m\u001b[1;33m\u001b[0m\u001b[0m\n\u001b[0;32m    566\u001b[0m       \u001b[1;31m# The movers are no longer used. Delete them.\u001b[0m\u001b[1;33m\u001b[0m\u001b[1;33m\u001b[0m\u001b[0m\n",
      "\u001b[1;32m/usr/local/lib/python2.7/dist-packages/tensorflow/python/client/session.pyc\u001b[0m in \u001b[0;36m_do_run\u001b[1;34m(self, handle, target_list, fetch_list, feed_dict, options, run_metadata)\u001b[0m\n\u001b[0;32m    635\u001b[0m     \u001b[1;32mif\u001b[0m \u001b[0mhandle\u001b[0m \u001b[1;32mis\u001b[0m \u001b[0mNone\u001b[0m\u001b[1;33m:\u001b[0m\u001b[1;33m\u001b[0m\u001b[0m\n\u001b[0;32m    636\u001b[0m       return self._do_call(_run_fn, self._session, feed_dict, fetch_list,\n\u001b[1;32m--> 637\u001b[1;33m                            target_list, options, run_metadata)\n\u001b[0m\u001b[0;32m    638\u001b[0m     \u001b[1;32melse\u001b[0m\u001b[1;33m:\u001b[0m\u001b[1;33m\u001b[0m\u001b[0m\n\u001b[0;32m    639\u001b[0m       return self._do_call(_prun_fn, self._session, handle, feed_dict,\n",
      "\u001b[1;32m/usr/local/lib/python2.7/dist-packages/tensorflow/python/client/session.pyc\u001b[0m in \u001b[0;36m_do_call\u001b[1;34m(self, fn, *args)\u001b[0m\n\u001b[0;32m    642\u001b[0m   \u001b[1;32mdef\u001b[0m \u001b[0m_do_call\u001b[0m\u001b[1;33m(\u001b[0m\u001b[0mself\u001b[0m\u001b[1;33m,\u001b[0m \u001b[0mfn\u001b[0m\u001b[1;33m,\u001b[0m \u001b[1;33m*\u001b[0m\u001b[0margs\u001b[0m\u001b[1;33m)\u001b[0m\u001b[1;33m:\u001b[0m\u001b[1;33m\u001b[0m\u001b[0m\n\u001b[0;32m    643\u001b[0m     \u001b[1;32mtry\u001b[0m\u001b[1;33m:\u001b[0m\u001b[1;33m\u001b[0m\u001b[0m\n\u001b[1;32m--> 644\u001b[1;33m       \u001b[1;32mreturn\u001b[0m \u001b[0mfn\u001b[0m\u001b[1;33m(\u001b[0m\u001b[1;33m*\u001b[0m\u001b[0margs\u001b[0m\u001b[1;33m)\u001b[0m\u001b[1;33m\u001b[0m\u001b[0m\n\u001b[0m\u001b[0;32m    645\u001b[0m     \u001b[1;32mexcept\u001b[0m \u001b[0mtf_session\u001b[0m\u001b[1;33m.\u001b[0m\u001b[0mStatusNotOK\u001b[0m \u001b[1;32mas\u001b[0m \u001b[0me\u001b[0m\u001b[1;33m:\u001b[0m\u001b[1;33m\u001b[0m\u001b[0m\n\u001b[0;32m    646\u001b[0m       \u001b[0merror_message\u001b[0m \u001b[1;33m=\u001b[0m \u001b[0mcompat\u001b[0m\u001b[1;33m.\u001b[0m\u001b[0mas_text\u001b[0m\u001b[1;33m(\u001b[0m\u001b[0me\u001b[0m\u001b[1;33m.\u001b[0m\u001b[0merror_message\u001b[0m\u001b[1;33m)\u001b[0m\u001b[1;33m\u001b[0m\u001b[0m\n",
      "\u001b[1;32m/usr/local/lib/python2.7/dist-packages/tensorflow/python/client/session.pyc\u001b[0m in \u001b[0;36m_run_fn\u001b[1;34m(session, feed_dict, fetch_list, target_list, options, run_metadata)\u001b[0m\n\u001b[0;32m    626\u001b[0m       \u001b[1;32melse\u001b[0m\u001b[1;33m:\u001b[0m\u001b[1;33m\u001b[0m\u001b[0m\n\u001b[0;32m    627\u001b[0m         return tf_session.TF_Run(\n\u001b[1;32m--> 628\u001b[1;33m             session, None, feed_dict, fetch_list, target_list, None)\n\u001b[0m\u001b[0;32m    629\u001b[0m \u001b[1;33m\u001b[0m\u001b[0m\n\u001b[0;32m    630\u001b[0m     \u001b[1;32mdef\u001b[0m \u001b[0m_prun_fn\u001b[0m\u001b[1;33m(\u001b[0m\u001b[0msession\u001b[0m\u001b[1;33m,\u001b[0m \u001b[0mhandle\u001b[0m\u001b[1;33m,\u001b[0m \u001b[0mfeed_dict\u001b[0m\u001b[1;33m,\u001b[0m \u001b[0mfetch_list\u001b[0m\u001b[1;33m)\u001b[0m\u001b[1;33m:\u001b[0m\u001b[1;33m\u001b[0m\u001b[0m\n",
      "\u001b[1;31mKeyboardInterrupt\u001b[0m: "
     ]
    }
   ],
   "source": [
    "#模型训练\n",
    "with tf.Session(graph=graph) as sess:\n",
    "    tf.initialize_all_variables().run()\n",
    "    for e in range(num_epochs):\n",
    "        data_loader.reset_batch_pointer()\n",
    "        for b in range(data_loader.num_batches):\n",
    "            start = time.time()\n",
    "            x, py, ny = data_loader.next_batch()\n",
    "            feed = {input_data: x,\n",
    "                    targets_pos: py,\n",
    "                    targets_neg: ny}\n",
    "            train_loss,  _ = sess.run([loss, optimizer], feed)\n",
    "            end = time.time()\n",
    "            print(\"{}/{} (epoch {}), train_loss = {:.3f}, time/batch = {:.3f}\" .format(\n",
    "                    b, data_loader.num_batches,\n",
    "                    e, train_loss, end - start))\n",
    "        np.save('word_embeddings', normalized_embeddings.eval())"
   ]
  },
  {
   "cell_type": "code",
   "execution_count": null,
   "metadata": {
    "collapsed": true
   },
   "outputs": [],
   "source": [
    "#模型测试\n",
    "final_embeddings = np.load('word_embeddings.npy')\n",
    "for word in test_words:\n",
    "    if not data_loader.vocab.has_key(word):\n",
    "        continue\n",
    "    word_vec = final_embeddings[data_loader.vocab.get(word),:]\n",
    "    sim_mat = np.matmul(final_embeddings, word_vec)\n",
    "    neareast = (-sim_mat).argsort()[1:11]\n",
    "    neareast_words = [data_loader.words[id] for id in neareast]\n",
    "    result_str = '与词<{0}>最相似的前10个词为：'.format(word) + ','.join(neareast_words)\n",
    "    print result_str.encode('utf-8')"
   ]
  }
 ],
 "metadata": {
  "kernelspec": {
   "display_name": "Python 2",
   "language": "python",
   "name": "python2"
  },
  "language_info": {
   "codemirror_mode": {
    "name": "ipython",
    "version": 2
   },
   "file_extension": ".py",
   "mimetype": "text/x-python",
   "name": "python",
   "nbconvert_exporter": "python",
   "pygments_lexer": "ipython2",
   "version": "2.7.6"
  }
 },
 "nbformat": 4,
 "nbformat_minor": 0
}
